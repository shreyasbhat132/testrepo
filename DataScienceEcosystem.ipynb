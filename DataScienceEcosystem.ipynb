{
 "cells": [
  {
   "cell_type": "markdown",
   "id": "b71157f9-f90b-4f76-a9f7-a405a5b19e81",
   "metadata": {},
   "source": [
    "# Data Science Tools and Ecosystem"
   ]
  },
  {
   "cell_type": "markdown",
   "id": "4d68040a-159b-40e7-a1d7-20864edb97af",
   "metadata": {},
   "source": [
    "In this notebook, Data Science Tools and Ecosystem are summarized."
   ]
  },
  {
   "cell_type": "markdown",
   "id": "e05dc946-2214-474b-a93c-f1a8bae750ff",
   "metadata": {},
   "source": [
    "Some of the popular languages that Data Scientists use are:"
   ]
  },
  {
   "cell_type": "markdown",
   "id": "173784d4-bd30-4190-b916-0e5471a96279",
   "metadata": {},
   "source": [
    "1. Python \n",
    "2. R \n",
    "3. C++ \n",
    "4. SQL \n",
    "5. Java "
   ]
  },
  {
   "cell_type": "markdown",
   "id": "adfbfd5f-fc0b-47ed-9a98-73753d1da2b6",
   "metadata": {},
   "source": [
    "Some of the commonly used libraries used by Data Scientists include:"
   ]
  },
  {
   "cell_type": "markdown",
   "id": "ef3c8317-d35d-40be-9d99-32a090330527",
   "metadata": {},
   "source": [
    "1. numpy\n",
    "2. pandas\n",
    "3. scikit-learn"
   ]
  },
  {
   "cell_type": "markdown",
   "id": "97bb1ace-9118-4730-9ccb-15719e0c0d96",
   "metadata": {},
   "source": [
    "| Data Science Tools     |\n",
    "|------------------------|\n",
    "| Jupyter Notebook       |\n",
    "| RStudio                |\n",
    "| Anaconda               |\n"
   ]
  },
  {
   "cell_type": "markdown",
   "id": "decf5d49-7182-49f0-a98f-6e19e9201434",
   "metadata": {},
   "source": [
    "### Below are a few examples of evaluating arithmetic expressions in Python"
   ]
  },
  {
   "cell_type": "code",
   "execution_count": 1,
   "id": "70ff5fde-3284-48d1-bf8c-203138216892",
   "metadata": {},
   "outputs": [
    {
     "data": {
      "text/plain": [
       "17"
      ]
     },
     "execution_count": 1,
     "metadata": {},
     "output_type": "execute_result"
    }
   ],
   "source": [
    "#This a simple arithmetic expression to mutiply then add integers\n",
    "(3*4)+5"
   ]
  },
  {
   "cell_type": "code",
   "execution_count": 2,
   "id": "b029d65c-c97f-49fc-b140-b374d2e85108",
   "metadata": {},
   "outputs": [
    {
     "data": {
      "text/plain": [
       "3.3333333333333335"
      ]
     },
     "execution_count": 2,
     "metadata": {},
     "output_type": "execute_result"
    }
   ],
   "source": [
    "#This will convert 200 minutes to hours by diving by 60\n",
    "200/60"
   ]
  },
  {
   "cell_type": "markdown",
   "id": "48a4fb66-f429-429a-a3d5-c123637b19c1",
   "metadata": {},
   "source": [
    "Objectives:\n",
    "* List the different tools used by data scientists\n",
    "* List the open source and commercial softwares/tools used in Data Scienec\n",
    "* Introduction to Programming langiuages such as Python, R, SQL\n",
    "* Understand Git and the process of version control"
   ]
  },
  {
   "cell_type": "markdown",
   "id": "354fc4a3-f167-4e97-8137-014241aa777f",
   "metadata": {},
   "source": [
    "## Author\n",
    "Shreyaskumar Bhat"
   ]
  },
  {
   "cell_type": "code",
   "execution_count": null,
   "id": "c56e11d5-978b-447c-b4ef-213003ec5fb2",
   "metadata": {},
   "outputs": [],
   "source": []
  }
 ],
 "metadata": {
  "kernelspec": {
   "display_name": "Python 3 (ipykernel)",
   "language": "python",
   "name": "python3"
  },
  "language_info": {
   "codemirror_mode": {
    "name": "ipython",
    "version": 3
   },
   "file_extension": ".py",
   "mimetype": "text/x-python",
   "name": "python",
   "nbconvert_exporter": "python",
   "pygments_lexer": "ipython3",
   "version": "3.11.0"
  }
 },
 "nbformat": 4,
 "nbformat_minor": 5
}
